{
 "cells": [
  {
   "cell_type": "code",
   "execution_count": 55,
   "metadata": {},
   "outputs": [],
   "source": [
    "import numpy as np\n",
    "import pandas as pd\n",
    "from collections import OrderedDict\n",
    "from transformers import AutoTokenizer, AutoModel, AdamW, pipeline\n",
    "from transformers import AutoModelForSequenceClassification\n",
    "from transformers import TrainingArguments, Trainer\n",
    "from sklearn.metrics import classification_report, f1_score\n",
    "from sklearn.metrics.pairwise import cosine_similarity\n",
    "from sklearn.cluster import KMeans\n",
    "from sklearn.preprocessing import StandardScaler\n",
    "from sklearn.pipeline import make_pipeline\n",
    "from sklearn.decomposition import KernelPCA\n",
    "from matplotlib import pyplot as plt\n",
    "from tqdm import tqdm\n",
    "from typing import Optional, Tuple, List\n",
    "import itertools\n",
    "import hashlib\n",
    "import io\n",
    "import os\n",
    "import glob"
   ]
  },
  {
   "cell_type": "code",
   "execution_count": 26,
   "metadata": {},
   "outputs": [],
   "source": [
    "files = glob.glob(\"../data/truths/ncp*\")"
   ]
  },
  {
   "cell_type": "code",
   "execution_count": 34,
   "metadata": {},
   "outputs": [],
   "source": [
    "data = list()\n",
    "for _file in files:\n",
    "    text = open(_file).read()\n",
    "    data.append(text)"
   ]
  },
  {
   "cell_type": "code",
   "execution_count": 38,
   "metadata": {},
   "outputs": [
    {
     "data": {
      "text/plain": [
       "['PATIENT NO: - ST DAVIDS MEDICAL CTR BILLING DATE PAGE 2 06676',\n",
       " 'MED REC NO: 919 E. 32ND STREET 12/29/17',\n",
       " 'GUARANTOR NO:',\n",
       " 'PATIENT: AUSTIN TX 787052703 ADMITTED DISCHARGED',\n",
       " 'CALVER DREU 04/02/17 04/05/17',\n",
       " 'DATE OF BATCH F NDC/CPT-4/',\n",
       " 'SERVICE REF DEPT S PROC HCPCS QTY SERVICE DESCRIPTION CHARGES',\n",
       " '040417 04B039 0712 440161 904404073 1 ASPIRIN 81MG CHEW TAB 1.00',\n",
       " '040417 04B133 0712 443838 904629261 2 ATORVASTATIN 40 MG TAB 18.00',\n",
       " '040417 04B039+ 0712 444089 62584026511 2 METOPROLOL 25MG TAB 8.00',\n",
       " 'D40517 05B260 0712 445365 186077739 1 TICAGRELOR 90 MG TAB 46.00',\n",
       " '040517 05B260 0712 444089 62584026511 1 METOPROLOL 25MG TAB 4,00',\n",
       " 'D40517 05B260 0712 440161 63739043401 1 ASPIRIN 81MG CHEW TAB 1.00',\n",
       " 'SUBTOTAL: 515.29',\n",
       " '260-IV THERAPY',\n",
       " '040217 O6PARC 0780 780328 96374 1 IVP SINGLE/INITIAL DRU 275.00',\n",
       " 'SUBTOTAL : 275.00',\n",
       " '272-STERILE SUPPLIES',\n",
       " '040217 03B882+ 0718 319311 2 SET ADM IV 125IN 20 GT 122 .00',\n",
       " '040317 03B881 0718 281479 1 BAND TR BND 24CM REG 2 573.00',\n",
       " '040317 03B881 0718 269152 1 KIT PRSS STD W/72TBG 132.00',\n",
       " '040317 03B881 0718 272181 (C1769 2 GWIRE EXSPRT .014 300 1884.00',\n",
       " '040317 03B881 0718 354616 (1887 1 CTHGD VBT 7F 078 JR4 1 539.00',\n",
       " '040317 03B881 0718 690203 (1725 1 BLN APX OV 4%8 1606 .00',\n",
       " '040317 03B881 0718 282453 C1725 4 CATH BLN NCEUP 2.25X12 2580.00',\n",
       " '040317 03B881 0718 275985 (1769 1 GW ZPWR 035 150 ANG BX 1662.00',\n",
       " '040317 03B881 0718 269082 (1894 1 SHTH CTH MIC PNCH 4 389.00',\n",
       " '040317 03B881 0718 686671 (1887 1 CATH TIGER RADIAL &F 916.00',\n",
       " '040317 03B881 0718 695099 C1769 1 PRESSUREWIRE AERIS 300 921.00',\n",
       " '040317 03B881 0718 695103 C1753 1 CATH ULTSND PLTN EGL 3497.00',\n",
       " 'SUBTOTAL: 14821.00',\n",
       " '278-SUPPLY/ IMPLANTS',\n",
       " '040317 03B881 0717 322643 (1874 1 STENT SYNERGY 3.5X12MM 19708.00',\n",
       " '040317 03B881 0717 322650 C1874 1 STENT SYNERGY 4X16MHM 19708.00',\n",
       " '040317 03B881 0717 693618 (1874 1 STN DES RESOL RX 4X12 1764.00',\n",
       " '040317 03B881 0717 693619 C1874 1 STN DES RESOL RX 4X15 1764.00',\n",
       " 'SUBTOTAL : 42944 .00',\n",
       " '301-LAB/CHEMISTRY',\n",
       " 'D40217 02B661+ 0736 290116 82550 2 CREAT KINASE (CK) TOTA 606.00',\n",
       " 'D40217 02B661+ 0736 290945 B4484 3 TROPONIN QUANT 1380.00',\n",
       " '040217 02B661+ 0736 290906 82553 2 CK MB 872 .00',\n",
       " '040217 02B694 0736 294718 80307 1 DRUG SCR ANY NBR PER D 492 .00',\n",
       " '040217 02B645 0736 294021 83880 1 NATRIURETIC PEPTIDE 460.00',\n",
       " '040217 02B645 0736 290906 82553 1 CK MB 436.00',\n",
       " '040217 02B645 0736 290116 82550 1 CREAT KINASE (CK) TOTA 303.00',\n",
       " 'D40217 02B645 0736 290299 80076 1 HEPATIC FUNCTION PANEL 718.00',\n",
       " 'THIS IS AN ITEMIZED STATEMENT AND DOES NOT INCLUDE',\n",
       " 'PAYMENTS OR ADJUSTMENTS MADE AFTER DATE OF DISCHARGE.']"
      ]
     },
     "execution_count": 38,
     "metadata": {},
     "output_type": "execute_result"
    }
   ],
   "source": [
    "test = data[0].split('\\n')\n",
    "test"
   ]
  },
  {
   "cell_type": "code",
   "execution_count": 50,
   "metadata": {},
   "outputs": [
    {
     "name": "stderr",
     "output_type": "stream",
     "text": [
      "Some layers from the model checkpoint at bert-base-uncased were not used when initializing TFBertModel: ['nsp___cls', 'mlm___cls']\n",
      "- This IS expected if you are initializing TFBertModel from the checkpoint of a model trained on another task or with another architecture (e.g. initializing a BertForSequenceClassification model from a BertForPreTraining model).\n",
      "- This IS NOT expected if you are initializing TFBertModel from the checkpoint of a model that you expect to be exactly identical (initializing a BertForSequenceClassification model from a BertForSequenceClassification model).\n",
      "All the layers of TFBertModel were initialized from the model checkpoint at bert-base-uncased.\n",
      "If your task is similar to the task the model of the checkpoint was trained on, you can already use TFBertModel for predictions without further training.\n"
     ]
    }
   ],
   "source": [
    "test_pipeline = pipeline(\"feature-extraction\", model=\"bert-base-uncased\", tokenizer=\"bert-base-uncased\", \n",
    "                                            padding=True,\n",
    "                                            truncation=True,\n",
    "                                            max_length=512,\n",
    "                                            return_tensors='pt'\n",
    ")"
   ]
  },
  {
   "cell_type": "code",
   "execution_count": 51,
   "metadata": {},
   "outputs": [],
   "source": [
    "test_pipeline.encode = lambda x: np.array([_[0][0] for _ in list(map(test_pipeline,x))])"
   ]
  },
  {
   "cell_type": "code",
   "execution_count": 52,
   "metadata": {},
   "outputs": [],
   "source": [
    "cluster_embs = test_pipeline.encode(test)"
   ]
  },
  {
   "cell_type": "code",
   "execution_count": 56,
   "metadata": {},
   "outputs": [],
   "source": [
    "from pydoc import doc\n",
    "\n",
    "\n",
    "def generate_truths(\n",
    "    document_repo: Optional[\"str\"],\n",
    "    output_dir: Optional[\"str\"],\n",
    ") -> pd.DataFrame:\n",
    "    dfs: List = list()\n",
    "    document_repo: str = f\"{document_repo}/.*txt\"\n",
    "    files = glob.glob(document_repo)\n",
    "    get_lines: List  = lambda _: (\n",
    "        open(_).read().split('\\n'), os.path.basename(_).split(\".\")[0]\n",
    "    )\n",
    "    documents  = list(map(get_lines, files))\n",
    "    for document in documents:\n",
    "        df = pd.DataFrame({\n",
    "            'output': document[0],\n",
    "            'document_tag': document[1],\n",
    "        })\n",
    "    \n",
    "    "
   ]
  },
  {
   "cell_type": "code",
   "execution_count": null,
   "metadata": {},
   "outputs": [],
   "source": [
    "generate_truths(\"data/truths\", output_dir=None)"
   ]
  }
 ],
 "metadata": {
  "kernelspec": {
   "display_name": "Python 3.9.13 ('ocr-bert-venv')",
   "language": "python",
   "name": "python3"
  },
  "language_info": {
   "codemirror_mode": {
    "name": "ipython",
    "version": 3
   },
   "file_extension": ".py",
   "mimetype": "text/x-python",
   "name": "python",
   "nbconvert_exporter": "python",
   "pygments_lexer": "ipython3",
   "version": "3.9.13"
  },
  "orig_nbformat": 4,
  "vscode": {
   "interpreter": {
    "hash": "b7fc792f5bdb601fbc4c762770c55fe5c56f40d67038f3d6c44ddd9b59fa541d"
   }
  }
 },
 "nbformat": 4,
 "nbformat_minor": 2
}
